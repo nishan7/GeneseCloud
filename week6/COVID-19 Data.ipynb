{
  "nbformat": 4,
  "nbformat_minor": 0,
  "metadata": {
    "colab": {
      "name": "Untitled3.ipynb",
      "provenance": [],
      "collapsed_sections": []
    },
    "kernelspec": {
      "display_name": "Python 3",
      "name": "python3"
    }
  },
  "cells": [
    {
      "cell_type": "markdown",
      "metadata": {
        "id": "FCm-bq2mHt5f"
      },
      "source": [
        "## Input modules"
      ]
    },
    {
      "cell_type": "code",
      "metadata": {
        "id": "vIQL3i0J7ZmZ"
      },
      "source": [
        "# !pip install -U  statsmodels\n",
        "from statsmodels.tsa.ar_model import AutoReg\n",
        "from statsmodels.tsa.ar_model import ar_select_order\n",
        "from sklearn.metrics import r2_score\n",
        "import matplotlib.pyplot as plt\n",
        "%matplotlib inline\n",
        "\n",
        "import warnings\n",
        "warnings.filterwarnings('ignore')"
      ],
      "execution_count": 244,
      "outputs": []
    },
    {
      "cell_type": "markdown",
      "metadata": {
        "id": "tfCRnMd0H15W"
      },
      "source": [
        "## Get the data"
      ]
    },
    {
      "cell_type": "code",
      "metadata": {
        "id": "DErFmsITTz-T"
      },
      "source": [
        "df = pd.read_csv('https://covid.ourworldindata.org/data/owid-covid-data.csv')\n",
        "\n",
        "df = df[df['iso_code']=='NPL']\n",
        "df['total_cases'].fillna(0, inplace=True)\n",
        "\n",
        "df = df[['total_cases','date']]\n",
        "\n",
        "df.rename(columns={'date':'Date','total_cases':'Cases'}, inplace=True)\n",
        "df['Date']   = pd.to_datetime(df['Date'])\n",
        "df.set_index('Date', inplace=True)\n",
        "\n",
        "df.reset_index(inplace=True)"
      ],
      "execution_count": null,
      "outputs": []
    },
    {
      "cell_type": "code",
      "metadata": {
        "id": "0YXHAe56WT7e",
        "outputId": "09aff7e6-276d-4489-91ac-9d0ada85027e",
        "colab": {
          "base_uri": "https://localhost:8080/",
          "height": 324
        }
      },
      "source": [
        "# Plot the graph\n",
        "df.plot(x='Date', y='Cases', color='r')\n",
        "plt.ylabel('Cases')\n",
        "plt.title('Increase in COVID-19 Cases vs Date in Nepal')"
      ],
      "execution_count": 281,
      "outputs": [
        {
          "output_type": "execute_result",
          "data": {
            "text/plain": [
              "Text(0.5, 1.0, 'Increase in COVID-19 Cases vs Date in Nepal')"
            ]
          },
          "metadata": {
            "tags": []
          },
          "execution_count": 281
        },
        {
          "output_type": "display_data",
          "data": {
            "image/png": "[encoded data removed]",
            "text/plain": [
              "<Figure size 432x288 with 1 Axes>"
            ]
          },
          "metadata": {
            "tags": [],
            "needs_background": "light"
          }
        }
      ]
    },
    {
      "cell_type": "markdown",
      "metadata": {
        "id": "80Byd026HIAp"
      },
      "source": [
        "## 1) We split the data set into train and test sets\n",
        "## 2) Train set has all the data except last 7 days \n",
        "## 3) Test set has only the data from last 7 days\n",
        "## 4) We train on all the data except 7 days and try to predict the last 7 days data"
      ]
    },
    {
      "cell_type": "code",
      "metadata": {
        "id": "-_Z5TArF7ton"
      },
      "source": [
        "train, test = df.iloc[:-7,:], df.iloc[-7:, :]\n",
        "test_start, test_end = test.index.start, test.index.stop -1"
      ],
      "execution_count": 245,
      "outputs": []
    },
    {
      "cell_type": "markdown",
      "metadata": {
        "id": "L8iJ4b57GySa"
      },
      "source": [
        "## I am using Autoregressive Forecast Model to forecast the confirmed cases\n",
        "## Iterate to find the value of lags"
      ]
    },
    {
      "cell_type": "code",
      "metadata": {
        "id": "zz7abk3vBA76",
        "outputId": "422a1b86-1a71-478b-83b8-2bbd7a5146c4",
        "colab": {
          "base_uri": "https://localhost:8080/",
          "height": 51
        }
      },
      "source": [
        "score = []\n",
        "for i in range(0,100):\n",
        "  model = AutoReg(train['Cases'], lags=i)\n",
        "  model_fit = model.fit()\n",
        "\n",
        "  predictions = model_fit.predict(start=test_start, end=test_end)\n",
        "\n",
        "  score.append(( r2_score(test['Cases'], predictions, multioutput='uniform_average'), i))\n",
        "\n",
        "print('Best accuracy with lags')\n",
        "sorted(score, reverse=True)[0]"
      ],
      "execution_count": 249,
      "outputs": [
        {
          "output_type": "stream",
          "text": [
            "Best accuracy with lags\n"
          ],
          "name": "stdout"
        },
        {
          "output_type": "execute_result",
          "data": {
            "text/plain": [
              "(0.9654086127001642, 91)"
            ]
          },
          "metadata": {
            "tags": []
          },
          "execution_count": 249
        }
      ]
    },
    {
      "cell_type": "markdown",
      "metadata": {
        "id": "oUF8jyS0G31-"
      },
      "source": [
        "## The actual module with the obtained lags"
      ]
    },
    {
      "cell_type": "code",
      "metadata": {
        "id": "_GMW-cWPBtSQ",
        "outputId": "7b768d68-07f6-49bd-ab3f-98565a8b6686",
        "colab": {
          "base_uri": "https://localhost:8080/",
          "height": 484
        }
      },
      "source": [
        "model = AutoReg(train['Cases'], lags=91)\n",
        "model_fit = model.fit()\n",
        "\n",
        "# Precdition is done for the range of test values\n",
        "predictions = model_fit.predict(start=test_start, end=test_end)\n",
        "\n",
        "print('R2 Score is :')\n",
        "print( r2_score(test['Cases'], predictions, multioutput='uniform_average'))\n",
        "print()\n",
        "print('Details on that')\n",
        "\n",
        "for real, pred in zip(test['Cases'].values, predictions.values):\n",
        "  print('Actual no. of cases was {}, Model predicted {} '.format(int(real), int(pred)))\n",
        "\n",
        "print()\n",
        "\n",
        "# Plot the graph\n",
        "plt.plot([1,2,3,4,5,6,7], test['Cases'].values, color='r', label='Actual')\n",
        "plt.plot([1,2,3,4,5,6,7], predictions.values, color='c', label = 'Predicted')\n",
        "plt.xlabel('Last 7 days')\n",
        "plt.ylabel('Cases')\n",
        "plt.legend()\n",
        "plt.show()"
      ],
      "execution_count": 275,
      "outputs": [
        {
          "output_type": "stream",
          "text": [
            "R2 Score is :\n",
            "0.9654086127001642\n",
            "\n",
            "Details on that\n",
            "Actual no. of cases was 98617, Model predicted 97225 \n",
            "Actual no. of cases was 100676, Model predicted 100560 \n",
            "Actual no. of cases was 105684, Model predicted 103490 \n",
            "Actual no. of cases was 107755, Model predicted 106946 \n",
            "Actual no. of cases was 111802, Model predicted 110432 \n",
            "Actual no. of cases was 115358, Model predicted 114173 \n",
            "Actual no. of cases was 117996, Model predicted 118450 \n",
            "\n"
          ],
          "name": "stdout"
        },
        {
          "output_type": "display_data",
          "data": {
            "image/png": "[encoded data removed]",
            "text/plain": [
              "<Figure size 432x288 with 1 Axes>"
            ]
          },
          "metadata": {
            "tags": [],
            "needs_background": "light"
          }
        }
      ]
    },
    {
      "cell_type": "code",
      "metadata": {
        "id": "BBMJP8-EVu3F",
        "outputId": "471cbafe-def5-4058-b7bf-a74cf1d2dcc3",
        "colab": {
          "base_uri": "https://localhost:8080/",
          "height": 153
        }
      },
      "source": [
        "predictions"
      ],
      "execution_count": 273,
      "outputs": [
        {
          "output_type": "execute_result",
          "data": {
            "text/plain": [
              "283     97225.391016\n",
              "284    100560.984038\n",
              "285    103490.540146\n",
              "286    106946.075300\n",
              "287    110432.761115\n",
              "288    114173.284608\n",
              "289    118450.264198\n",
              "dtype: float64"
            ]
          },
          "metadata": {
            "tags": []
          },
          "execution_count": 273
        }
      ]
    },
    {
      "cell_type": "markdown",
      "metadata": {
        "id": "a6MrC47wIhyr"
      },
      "source": [
        "## Now same approach can be use to predict the cases for tommorrow cases"
      ]
    },
    {
      "cell_type": "code",
      "metadata": {
        "id": "Ojs98jX7Bkl_"
      },
      "source": [
        "model = AutoReg(df['Cases'], lags=91) # train on whole data\n",
        "model_fit = model.fit()\n",
        "\n",
        "# Precdition is done for the range of test values\n",
        "predictions = model_fit.predict(start=df.shape[0], end=df.shape[0])"
      ],
      "execution_count": 263,
      "outputs": []
    },
    {
      "cell_type": "code",
      "metadata": {
        "id": "VJGC4-GjIwUc",
        "outputId": "1a258b61-23b6-4ef1-b3f2-54583af80c63",
        "colab": {
          "base_uri": "https://localhost:8080/",
          "height": 163
        }
      },
      "source": [
        "print('Predicted cases for tomorrow is',int(predictions.values), 'cases')"
      ],
      "execution_count": 282,
      "outputs": [
        {
          "output_type": "error",
          "ename": "TypeError",
          "evalue": "ignored",
          "traceback": [
            "\u001b[0;31m---------------------------------------------------------------------------\u001b[0m",
            "\u001b[0;31mTypeError\u001b[0m                                 Traceback (most recent call last)",
            "\u001b[0;32m<ipython-input-282-861ed64a76c9>\u001b[0m in \u001b[0;36m<module>\u001b[0;34m()\u001b[0m\n\u001b[0;32m----> 1\u001b[0;31m \u001b[0mprint\u001b[0m\u001b[0;34m(\u001b[0m\u001b[0;34m'Predicted cases for tomorrow is'\u001b[0m\u001b[0;34m,\u001b[0m\u001b[0mint\u001b[0m\u001b[0;34m(\u001b[0m\u001b[0mpredictions\u001b[0m\u001b[0;34m.\u001b[0m\u001b[0mvalues\u001b[0m\u001b[0;34m)\u001b[0m\u001b[0;34m,\u001b[0m \u001b[0;34m'cases'\u001b[0m\u001b[0;34m)\u001b[0m\u001b[0;34m\u001b[0m\u001b[0;34m\u001b[0m\u001b[0m\n\u001b[0m",
            "\u001b[0;31mTypeError\u001b[0m: only size-1 arrays can be converted to Python scalars"
          ]
        }
      ]
    },
    {
      "cell_type": "code",
      "metadata": {
        "id": "WtfTrfa2W2qT"
      },
      "source": [
        ""
      ],
      "execution_count": 282,
      "outputs": []
    },
    {
      "cell_type": "code",
      "metadata": {
        "id": "5Rgdj7EyW2s9"
      },
      "source": [
        ""
      ],
      "execution_count": 282,
      "outputs": []
    },
    {
      "cell_type": "code",
      "metadata": {
        "id": "gW7H02GEW2zG"
      },
      "source": [
        ""
      ],
      "execution_count": null,
      "outputs": []
    }
  ]
}